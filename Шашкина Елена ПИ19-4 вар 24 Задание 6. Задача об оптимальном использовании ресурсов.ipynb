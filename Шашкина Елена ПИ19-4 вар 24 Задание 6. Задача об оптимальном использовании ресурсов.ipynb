{
 "cells": [
  {
   "cell_type": "markdown",
   "metadata": {},
   "source": [
    "# ВАРИАНТ 24"
   ]
  },
  {
   "cell_type": "code",
   "execution_count": 1,
   "metadata": {},
   "outputs": [],
   "source": [
    "#Решение прямой задачи"
   ]
  },
  {
   "cell_type": "code",
   "execution_count": 2,
   "metadata": {},
   "outputs": [
    {
     "name": "stdout",
     "output_type": "stream",
     "text": [
      "Введите a: 4\n",
      "Введите b: 1\n",
      "Введите c: 27\n",
      "Значения a, b, c: 4, 1, 27\n"
     ]
    }
   ],
   "source": [
    "a,b,c = input(\"Введите a: \"), input(\"Введите b: \"), input(\"Введите c: \")\n",
    "n_a, n_b, n_c = int(a), int(b), int(c)\n",
    "print(f\"Значения a, b, c: {a}, {b}, {c}\")"
   ]
  },
  {
   "cell_type": "code",
   "execution_count": 3,
   "metadata": {},
   "outputs": [],
   "source": [
    "from scipy.optimize import linprog"
   ]
  },
  {
   "cell_type": "code",
   "execution_count": 4,
   "metadata": {},
   "outputs": [
    {
     "data": {
      "text/plain": [
       "     con: array([], dtype=float64)\n",
       "     fun: -23972.727272727272\n",
       " message: 'Optimization terminated successfully.'\n",
       "     nit: 3\n",
       "   slack: array([0., 0.])\n",
       "  status: 0\n",
       " success: True\n",
       "       x: array([330.90909091,   0.        , 667.27272727])"
      ]
     },
     "execution_count": 4,
     "metadata": {},
     "output_type": "execute_result"
    }
   ],
   "source": [
    "price_A = 6 * n_b + 12\n",
    "price_B = 5 * n_b + 22\n",
    "\n",
    "price = [-price_A, -price_B, -n_c]\n",
    "\n",
    "matrix = [[1, 3, n_a], [6, 5, 2]] \n",
    "\n",
    "stocks = [3000, 3320]  \n",
    "\n",
    "x1_bounds = (0, None)\n",
    "x2_bounds = (0, None)\n",
    "x3_bounds = (0, None)\n",
    "\n",
    "m = linprog(c=price, A_ub=matrix, b_ub=stocks, bounds=[x1_bounds, x2_bounds, x3_bounds], method= \"revised simplex\")\n",
    "m"
   ]
  },
  {
   "cell_type": "markdown",
   "metadata": {},
   "source": [
    "Оптимальный план"
   ]
  },
  {
   "cell_type": "code",
   "execution_count": 5,
   "metadata": {},
   "outputs": [
    {
     "data": {
      "text/plain": [
       "array([330.90909091,   0.        , 667.27272727])"
      ]
     },
     "execution_count": 5,
     "metadata": {},
     "output_type": "execute_result"
    }
   ],
   "source": [
    "m.x"
   ]
  },
  {
   "cell_type": "markdown",
   "metadata": {},
   "source": [
    " Оптимальное значение целевой функции"
   ]
  },
  {
   "cell_type": "code",
   "execution_count": 6,
   "metadata": {},
   "outputs": [
    {
     "data": {
      "text/plain": [
       "23972.727272727272"
      ]
     },
     "execution_count": 6,
     "metadata": {},
     "output_type": "execute_result"
    }
   ],
   "source": [
    "-m.fun"
   ]
  },
  {
   "cell_type": "code",
   "execution_count": 7,
   "metadata": {},
   "outputs": [],
   "source": [
    "#Решение двойственной задачи"
   ]
  },
  {
   "cell_type": "code",
   "execution_count": 8,
   "metadata": {},
   "outputs": [
    {
     "data": {
      "text/plain": [
       "     con: array([], dtype=float64)\n",
       "     fun: 23972.727272727276\n",
       " message: 'Optimization terminated successfully.'\n",
       "     nit: 3\n",
       "   slack: array([0.        , 0.40909091, 0.        ])\n",
       "  status: 0\n",
       " success: True\n",
       "       x: array([5.72727273, 2.04545455])"
      ]
     },
     "execution_count": 8,
     "metadata": {},
     "output_type": "execute_result"
    }
   ],
   "source": [
    "price_A = 6 * n_b + 12\n",
    "price_B = 5 * n_b + 22\n",
    "\n",
    "price = [3000,3320]\n",
    "\n",
    "matrix = [[-1,-6], [-3, -5], [-n_a, -2]]\n",
    "stocks = [-price_A, -price_B, -n_c]\n",
    "\n",
    "y1_bounds = (0, None)\n",
    "y2_bounds = (0, None)\n",
    "\n",
    "m = linprog(c=price, A_ub=matrix, b_ub=stocks, bounds=[y1_bounds, y2_bounds], method= \"revised simplex\")\n",
    "m"
   ]
  },
  {
   "cell_type": "markdown",
   "metadata": {},
   "source": [
    "Оптимальный план"
   ]
  },
  {
   "cell_type": "code",
   "execution_count": 9,
   "metadata": {},
   "outputs": [
    {
     "data": {
      "text/plain": [
       "array([5.72727273, 2.04545455])"
      ]
     },
     "execution_count": 9,
     "metadata": {},
     "output_type": "execute_result"
    }
   ],
   "source": [
    "m.x"
   ]
  },
  {
   "cell_type": "markdown",
   "metadata": {},
   "source": [
    "Оптимальное значение целевой функции"
   ]
  },
  {
   "cell_type": "code",
   "execution_count": 10,
   "metadata": {},
   "outputs": [
    {
     "data": {
      "text/plain": [
       "23972.727272727276"
      ]
     },
     "execution_count": 10,
     "metadata": {},
     "output_type": "execute_result"
    }
   ],
   "source": [
    "m.fun"
   ]
  },
  {
   "cell_type": "code",
   "execution_count": 3,
   "metadata": {},
   "outputs": [
    {
     "name": "stdout",
     "output_type": "stream",
     "text": [
      "Input:\n",
      " [[ 0.17  0.62  0.24]\n",
      " [ 0.3  -1.5  -0.8 ]\n",
      " [ 0.9   0.5   0.4 ]]\n",
      "Optimal value: 0.39999999992121416\n",
      "Optimal value2: 2.5000000004924114\n",
      "| P | 0 | 0 | 1 |\n",
      "| Q | 0 | 0 | 1 |\n",
      "\n",
      "Игра, в которой спектр оптимальной стратегии состоит из одной точки (т.е. существует равновесие Нэша в чистых стратегиях)\n"
     ]
    },
    {
     "name": "stderr",
     "output_type": "stream",
     "text": [
      "<ipython-input-3-fbd423612d8c>:30: DeprecationWarning: scipy.transpose is deprecated and will be removed in SciPy 2.0.0, use numpy.transpose instead\n",
      "  a_T = -scipy.transpose(a)\n"
     ]
    },
    {
     "data": {
      "image/png": "[encoded data removed]",
      "text/plain": [
       "<Figure size 432x288 with 1 Axes>"
      ]
     },
     "metadata": {
      "needs_background": "light"
     },
     "output_type": "display_data"
    },
    {
     "data": {
      "image/png": "[encoded data removed]",
      "text/plain": [
       "<Figure size 432x288 with 1 Axes>"
      ]
     },
     "metadata": {
      "needs_background": "light"
     },
     "output_type": "display_data"
    }
   ],
   "source": [
    "%matplotlib inline\n",
    "\n",
    "import os\n",
    "import matplotlib.pyplot as plt\n",
    "import numpy as np\n",
    "\n",
    "def graf(a, b):\n",
    "    fig = plt.figure()\n",
    "    # Добавление на рисунок прямоугольной (по умолчанию) области рисования \n",
    "    for i in range(len(a)):\n",
    "        scatter1 = plt.scatter(i+1, a[i])\n",
    "    if b == 1:\n",
    "        text1 = plt.text(1, 1.1, \"\\nOptimal strategy for 1nd player\\n\")\n",
    "    if b == 2:\n",
    "        text1 = plt.text(1, 1.1, \"\\nOptimal strategy for 2nd player\\n\")\n",
    "    grid1 = plt.grid(True)   # линии вспомогательной сетки\n",
    "\n",
    "plt.show()\n",
    "    \n",
    "def nash_equilibrium(a): \n",
    "    from fractions import Fraction \n",
    "    print(\"Input:\\n\", a) \n",
    "    c = np.array([1 for x in range(len(a[0]))]) \n",
    "    b = np.array([1 for x in range(len(a))]) \n",
    "    import scipy \n",
    "    from scipy.optimize import linprog \n",
    "    bounds = [(0, None)] \n",
    "    for x in range(len(a[0]) - 1): \n",
    "        bounds += [(0, None)] \n",
    "    a_T = -scipy.transpose(a) \n",
    "    res = linprog(c, A_ub=a_T, b_ub=-b, bounds=bounds, \n",
    "    options={\"disp\": False}) \n",
    "    p = [res.x[i]/(res.fun) for i in range(len(res.x))] \n",
    "    graf(p, 1)\n",
    "    print ('Optimal value:', 1/(res.fun))\n",
    "    print ('Optimal value2:', 1/(1/(res.fun)))\n",
    "    print('| P', end=\" \") \n",
    "    for i in range(len(p)): \n",
    "        print ('|', Fraction(p[i]).limit_denominator(1000), end=\" \"), \n",
    "    res = linprog(-c, A_ub=a, b_ub=b, bounds=bounds, \n",
    "    options={\"disp\": False}) \n",
    "    q = [res.x[i]/(-res.fun) for i in range(len(res.x))] \n",
    "    graf(q, 2)\n",
    "    print ('|\\n| Q', end=\" \") \n",
    "    for i in range(len(q)): \n",
    "        print ('|', Fraction(q[i]).limit_denominator(1000), end=\" \"), \n",
    "    print ('|') \n",
    "    return \n",
    "\n",
    "if __name__ == \"__main__\": \n",
    "    import numpy as np \n",
    "    a = np.array([[ 0.17, 0.62, 0.24], \n",
    "    [0.3, -1.5, -0.8], \n",
    "    [0.9, 0.5, 0.4,]]) \n",
    "    nash_equilibrium(a)\n",
    "    print ('\\nИгра, в которой спектр оптимальной стратегии состоит из одной точки (т.е. существует равновесие Нэша в чистых стратегиях)') \n",
    "          \n",
    "    "
   ]
  },
  {
   "cell_type": "code",
   "execution_count": null,
   "metadata": {},
   "outputs": [],
   "source": []
  }
 ],
 "metadata": {
  "kernelspec": {
   "display_name": "Python 3",
   "language": "python",
   "name": "python3"
  },
  "language_info": {
   "codemirror_mode": {
    "name": "ipython",
    "version": 3
   },
   "file_extension": ".py",
   "mimetype": "text/x-python",
   "name": "python",
   "nbconvert_exporter": "python",
   "pygments_lexer": "ipython3",
   "version": "3.8.5"
  }
 },
 "nbformat": 4,
 "nbformat_minor": 4
}
