{
 "cells": [
  {
   "cell_type": "code",
   "execution_count": 1,
   "metadata": {},
   "outputs": [
    {
     "name": "stdout",
     "output_type": "stream",
     "text": [
      "Requirement already satisfied: cvxopt in c:\\users\\lenas\\anaconda3\\lib\\site-packages (1.3.0)\n",
      "Note: you may need to restart the kernel to use updated packages.\n"
     ]
    }
   ],
   "source": [
    "pip install cvxopt"
   ]
  },
  {
   "cell_type": "code",
   "execution_count": 2,
   "metadata": {},
   "outputs": [],
   "source": [
    "import numpy as np\n",
    "from cvxopt.modeling import variable, op"
   ]
  },
  {
   "cell_type": "markdown",
   "metadata": {},
   "source": [
    "# ВАРИАНТ 24"
   ]
  },
  {
   "cell_type": "markdown",
   "metadata": {},
   "source": [
    "Проверим, является ли транспортная задача закрытого типа (объем запасов равен объему потребностей)"
   ]
  },
  {
   "cell_type": "code",
   "execution_count": 3,
   "metadata": {},
   "outputs": [
    {
     "data": {
      "text/plain": [
       "True"
      ]
     },
     "execution_count": 3,
     "metadata": {},
     "output_type": "execute_result"
    }
   ],
   "source": [
    "290 + 370 + 250 == 140 + 130 + 210 + 270 + 160"
   ]
  },
  {
   "cell_type": "code",
   "execution_count": 4,
   "metadata": {},
   "outputs": [
    {
     "name": "stdout",
     "output_type": "stream",
     "text": [
      "Оптимальная стоимость перевозки - 8320.0\n",
      "Оптимальный план перевозки груза:\n",
      "[  0   0 130   0 160]\n",
      "[  0  20  80 270   0]\n",
      "[140 110   0   0   0]\n"
     ]
    }
   ],
   "source": [
    "x = variable(15, 'x')\n",
    "z=(5*x[0] + 14*x[1] + 8* x[2] + 11*x[3] + 4*x[4] +15* x[5]+ 10*x[6] + 12*x[7] + 13* x[8] + 10* x[9] + 7* x[10] + 9* x[11] + 16* x[12] + 17* x[13] + 23* x[14])  # целевая функция\n",
    "cond1 = (x[0] + x[1] +x[2] + x[3] + x[4] <= 290)  # условие для первой строки матрицы закупок\n",
    "cond2 = (x[5] + x[6] +x[7] + x[8] + x[9] <= 370)  #условие для второй строки матрицы закупок\n",
    "cond3 = (x[10] + x[11] + x[12] + x[13] + x[14] <= 250)  # #условие для третьей строки матрицы закупок\n",
    "cond4 = (x[0] + x[5] + x[10] == 140)  # условия для 1 столбца\n",
    "cond5 = (x[1] + x[6] + x[11] == 130)  #условия для 2 столбца\n",
    "cond6 = (x[2] + x[7] + x[12] == 210)  #условия для 3 столбца\n",
    "cond7 = (x[3] + x[8] + x[13] == 270)  #условия для 4 столбца\n",
    "cond8 = (x[4] + x[9] + x[14] == 160)  #условия для 5 столбца\n",
    "\n",
    "def count(cond1, cond2, cond3, cond4, cond5, cond6, cond7, cond8, z):\n",
    "    trans =op(z,[cond1, cond2, cond3, cond4, cond5, cond6, cond7, cond8, (x >= 0)])  #создаём объект модели\n",
    "    trans.solve(solver='glpk')  #преобразуем задачу оптимизации в линейную программу в матричном виде, а затем решаем ее с помощью solver\n",
    "    print(\"Оптимальная стоимость перевозки -\",trans.objective.value()[0])\n",
    "    print(\"Оптимальный план перевозки груза:\")\n",
    "    for i in [1,6,11]: \n",
    "        print(np.array([round(x.value[i-1]), round(x.value[i]),round(x.value[i+1]), round(x.value[i+2]), round(x.value[i+3])]))\n",
    "\n",
    "count (cond1, cond2, cond3, cond4, cond5, cond6, cond7, cond8,z)"
   ]
  },
  {
   "cell_type": "code",
   "execution_count": null,
   "metadata": {},
   "outputs": [],
   "source": []
  }
 ],
 "metadata": {
  "kernelspec": {
   "display_name": "Python 3",
   "language": "python",
   "name": "python3"
  },
  "language_info": {
   "codemirror_mode": {
    "name": "ipython",
    "version": 3
   },
   "file_extension": ".py",
   "mimetype": "text/x-python",
   "name": "python",
   "nbconvert_exporter": "python",
   "pygments_lexer": "ipython3",
   "version": "3.8.5"
  }
 },
 "nbformat": 4,
 "nbformat_minor": 4
}
