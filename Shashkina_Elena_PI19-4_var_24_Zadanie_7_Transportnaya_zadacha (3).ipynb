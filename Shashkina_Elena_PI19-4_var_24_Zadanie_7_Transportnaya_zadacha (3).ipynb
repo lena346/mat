{
 "cells": [
  {
   "cell_type": "code",
   "execution_count": 1,
   "metadata": {},
   "outputs": [],
   "source": [
    "import numpy as np\n",
    "from cvxopt.modeling import variable, op\n",
    "from scipy.optimize import linprog\n",
    "import warnings \n",
    "warnings.filterwarnings(\"ignore\")"
   ]
  },
  {
   "cell_type": "markdown",
   "metadata": {},
   "source": [
    "# ВАРИАНТ 24"
   ]
  },
  {
   "cell_type": "code",
   "execution_count": 2,
   "metadata": {},
   "outputs": [],
   "source": [
    "# Запасы\n",
    "a = np.array([290, 370, 250]) \n",
    "#Потребности\n",
    "b = np.array([140, 130, 210, 270, 160]) \n",
    "# Матрица тарифов\n",
    "C = np.array([[5, 14, 8, 11, 4],\n",
    "              [15, 10, 12, 13, 10],\n",
    "              [7, 9, 16, 17, 23]])  "
   ]
  },
  {
   "cell_type": "code",
   "execution_count": 3,
   "metadata": {},
   "outputs": [],
   "source": [
    "# Функция возвращает матрицу системы ограничений\n",
    "def ogran(a, b):\n",
    "    m = len(a)\n",
    "    n = len(b)\n",
    "    h = np.diag(np.ones(n))\n",
    "    v = np.zeros((m, n))\n",
    "    v[0] = 1\n",
    "    for i in range(1, m):\n",
    "        h = np.hstack((h, np.diag(np.ones(n))))\n",
    "        k = np.zeros((m, n))\n",
    "        k[i]=1\n",
    "        v = np.hstack((v, k))\n",
    "    return np.vstack((h, v)).astype(int), np.hstack((b,a))\n",
    "\n",
    "# Метод потенциалов\n",
    "def m_pot(a, b, c):\n",
    "    # Проверяем замкнутостm:\n",
    "    if a.sum() > b.sum():\n",
    "        b = np.hstack((b, [a.sum() - b.sum()]))\n",
    "        c = np.hstack((c, np.zeros(len(a)).reshape(-1, 1)))\n",
    "    elif a.sum() < b.sum():\n",
    "        a = np.hstack((a, [b.sum() - a.sum()]))\n",
    "        c = np.vstack((c, np.zeros(len(b))))\n",
    "        \n",
    "    m = len(a)\n",
    "    n = len(b)\n",
    "    A_eq, b_eq = ogran(a, b)\n",
    "    res = linprog(c.reshape(1, -1), A_eq=A_eq, b_eq=b_eq, bounds=(0, None), method='simplex')\n",
    "    return res.x.astype(int).reshape(m, n), res.fun.astype(int) "
   ]
  },
  {
   "cell_type": "code",
   "execution_count": 4,
   "metadata": {},
   "outputs": [
    {
     "name": "stdout",
     "output_type": "stream",
     "text": [
      "Оптимальный план перевозки груза: \n",
      " [[  0   0 130   0 160]\n",
      " [  0  20  80 270   0]\n",
      " [140 110   0   0   0]]\n",
      "Оптимальная стоимость перевозки:  8320\n"
     ]
    }
   ],
   "source": [
    "x2, opt = m_pot(a, b, C)\n",
    "print('Оптимальный план перевозки груза: \\n', x2)\n",
    "print('Оптимальная стоимость перевозки: ', opt)"
   ]
  },
  {
   "cell_type": "code",
   "execution_count": null,
   "metadata": {},
   "outputs": [],
   "source": []
  }
 ],
 "metadata": {
  "kernelspec": {
   "display_name": "Python 3",
   "language": "python",
   "name": "python3"
  },
  "language_info": {
   "codemirror_mode": {
    "name": "ipython",
    "version": 3
   },
   "file_extension": ".py",
   "mimetype": "text/x-python",
   "name": "python",
   "nbconvert_exporter": "python",
   "pygments_lexer": "ipython3",
   "version": "3.8.5"
  }
 },
 "nbformat": 4,
 "nbformat_minor": 4
}
