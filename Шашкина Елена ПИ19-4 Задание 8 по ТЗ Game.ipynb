{
 "cells": [
  {
   "cell_type": "code",
   "execution_count": 1,
   "metadata": {
    "pycharm": {
     "name": "#%%\n"
    }
   },
   "outputs": [],
   "source": [
    "import numpy as np\n",
    "import matplotlib.ticker as ticker\n",
    "from scipy.optimize import linprog\n",
    "import pandas as pd\n",
    "import matplotlib.pyplot as plt"
   ]
  },
  {
   "cell_type": "markdown",
   "metadata": {},
   "source": [
    "# Задание 1"
   ]
  },
  {
   "cell_type": "markdown",
   "metadata": {
    "pycharm": {
     "name": "#%% md\n"
    }
   },
   "source": [
    "## Пункт 1"
   ]
  },
  {
   "cell_type": "markdown",
   "metadata": {
    "pycharm": {
     "name": "#%% md\n"
    }
   },
   "source": [
    "#### 1. Решение задачи о нахождении выигрышной стратегии для антагонистической игры"
   ]
  },
  {
   "cell_type": "code",
   "execution_count": 2,
   "metadata": {},
   "outputs": [],
   "source": [
    "def antagonistic_game(A_strtg, B_strtg, matrix):\n",
    "    \n",
    "    min_A = matrix.min(axis=1)\n",
    "    min_B = matrix.max(axis=0)\n",
    "    \n",
    "    # максмин (выбрали наихудшее значение в каждой строке и из них нашли максимальное) - индекс максимального выигрыша игрока A\n",
    "    opt_A_strtg = min_A.argmax()\n",
    "    # минимакс (выбрали наилучшее значение в каждом столбце и из них нашли минимальное) - максимального проигрыша игрока B\n",
    "    opt_B_strtg = min_B.argmin() \n",
    "    \n",
    "    c = -np.array([1, 1, 1])\n",
    "    A_ub = matrix\n",
    "    b_ub = np.array([1, 1, 1])\n",
    "    bounds = [[0, None], [0, None], [0, None]]\n",
    "\n",
    "    m = linprog(c=c, A_ub=A_ub, b_ub=b_ub, bounds=bounds, method= \"revised simplex\")\n",
    "    \n",
    "    print(' a) Оптимальная чистая стратегия для игрока А: №' + str(opt_A_strtg + 1) + ' - ' + str(B_strtg[opt_A_strtg]) + '\\n', \n",
    "          'б) Цена игры для игрока А при выборе чистой оптимальной стратегии (максимальный выигрыш):  ' + str(min_A[opt_A_strtg]) + '\\n',\n",
    "          'в) Стратегия для игрока Б при оптимальной стратегии А: №' + str(opt_B_strtg + 1) + ' - ' + str(B_strtg[opt_B_strtg]) + '\\n',\n",
    "          'г) Цена игры для игрока Б при оптимальной стратегии А (максимальный проигрыш): ' + str(min_B[opt_B_strtg]) + '\\n', \n",
    "          'д) Таблица смешанных стратегий для игрока А: ' + str(m.x / -m.fun) + '\\n', \n",
    "          'е) Цена игры для игрока А при выборе смешанной оптимальной стратегии: ' + str(1 / -m.fun) + '\\n')"
   ]
  },
  {
   "cell_type": "code",
   "execution_count": 3,
   "metadata": {},
   "outputs": [
    {
     "name": "stdout",
     "output_type": "stream",
     "text": [
      " a) Оптимальная чистая стратегия для игрока А: №3 - Ноутбуки\n",
      " б) Цена игры для игрока А при выборе чистой оптимальной стратегии (максимальный выигрыш):  240\n",
      " в) Стратегия для игрока Б при оптимальной стратегии А: №1 - Телефоны\n",
      " г) Цена игры для игрока Б при оптимальной стратегии А (максимальный проигрыш): 300\n",
      " д) Таблица смешанных стратегий для игрока А: [0.73913043 0.         0.26086957]\n",
      " е) Цена игры для игрока А при выборе смешанной оптимальной стратегии: 281.73913043478257\n",
      "\n"
     ]
    }
   ],
   "source": [
    "antagonistic_game(['Телефоны','Ноутбуки', 'ПК'], ['Телефоны', 'Наушники', 'Ноутбуки'], np.array([\n",
    "    [300, 280, 230],\n",
    "    [200, 180, 130],\n",
    "    [240, 380, 400]\n",
    "]))"
   ]
  },
  {
   "cell_type": "markdown",
   "metadata": {},
   "source": [
    "# Пункт 2"
   ]
  },
  {
   "cell_type": "markdown",
   "metadata": {},
   "source": [
    "**2. Решение задачи о нахождении выигрышной стратегии для биматричной игры**"
   ]
  },
  {
   "cell_type": "code",
   "execution_count": 4,
   "metadata": {},
   "outputs": [],
   "source": [
    "def bimatrix_game(A_strtg, B_strtg, A, B):\n",
    "    max_A = A.max(axis=0)\n",
    "    min_A_strtg = max_A.argmin()\n",
    "    \n",
    "    min_B = B.min(axis=0)\n",
    "    max_B_strtg = min_B.argmax()\n",
    "    \n",
    "    S_A = max_A[min_A_strtg]\n",
    "    S_B = min_B[max_B_strtg]\n",
    "    S = S_A + S_B\n",
    "    \n",
    "    c1 = -np.array([1, 1, 1])\n",
    "    A_ub1 = A\n",
    "    b_ub1 = np.array([1, 1, 1])\n",
    "    bounds1 = [[0, None], [0, None], [0, None]]\n",
    "\n",
    "    m1 = linprog(c=c1, A_ub=A_ub1, b_ub=b_ub1, bounds=bounds1, method= \"revised simplex\")\n",
    "\n",
    "    c2 = np.array([1, 1, -1])\n",
    "    A_ub2 = B\n",
    "    b_ub2 = np.array([1, 1, 1])\n",
    "    bounds2 = [[0, None], [0, None], [0, None]]\n",
    "\n",
    "    m2 = linprog(c=c2, A_ub=A_ub2, b_ub=b_ub2, bounds=bounds2, method= \"revised simplex\")\n",
    "    \n",
    "    table_A = m2.x / -m2.fun\n",
    "    table_B = m1.x / -m1.fun\n",
    "    pr_B = ((table_A * B.T).T * table_B).sum()\n",
    "    pr_A = 1 / - m1.fun\n",
    "\n",
    "    print('  а) Оптимальная чистая стратегия для игрока А: №' + str(min_A_strtg + 1) + ' - ' + str(A_strtg[min_A_strtg]) + '\\n ',\n",
    "          'б) Цена игры для игрока А при выборе чистой оптимальной стратегии: ' + str(S_A) + '\\n',\n",
    "          ' в) Оптимальная чистая стратегия для игрока Б: №' + str(max_B_strtg + 1) + str(B_strtg[max_B_strtg]) + '\\n',\n",
    "          ' г) Цена игры для игрока Б при выборе чистой оптимальной стратегии: ' + str(S_B) + '\\n' ,\n",
    "          ' д) Общая (суммарная) цена игры: ' + str(S) + '\\n' ,\n",
    "          ' е) Таблица смешанных стратегий для компании А: ' + str(table_A) + '\\n' ,\n",
    "          ' ж) Цена игры для игрока А при выборе смешанной оптимальной стратегии: ' + str(pr_A) + '\\n' ,\n",
    "          ' з) Таблица смешанных стратегий для компании Б: ' + str(table_B) + '\\n' ,\n",
    "          ' и) Цена игры для игрока Б при выборе смешанной оптимальной стратегии: ' + str(pr_B) + '\\n' ,\n",
    "          ' к) Общая цена игры в случае использования оптимальных стратегий: ' + str(pr_A + pr_B) + '\\n')"
   ]
  },
  {
   "cell_type": "code",
   "execution_count": 5,
   "metadata": {},
   "outputs": [
    {
     "name": "stdout",
     "output_type": "stream",
     "text": [
      "  а) Оптимальная чистая стратегия для игрока А: №1 - Телефоны\n",
      "  б) Цена игры для игрока А при выборе чистой оптимальной стратегии: 300\n",
      "  в) Оптимальная чистая стратегия для игрока Б: №3Ноутбуки\n",
      "  г) Цена игры для игрока Б при выборе чистой оптимальной стратегии: 210\n",
      "  д) Общая (суммарная) цена игры: 510\n",
      "  е) Таблица смешанных стратегий для компании А: [0. 0. 1.]\n",
      "  ж) Цена игры для игрока А при выборе смешанной оптимальной стратегии: 281.73913043478257\n",
      "  з) Таблица смешанных стратегий для компании Б: [0.73913043 0.         0.26086957]\n",
      "  и) Цена игры для игрока Б при выборе смешанной оптимальной стратегии: 286.95652173913044\n",
      "  к) Общая цена игры в случае использования оптимальных стратегий: 568.695652173913\n",
      "\n"
     ]
    }
   ],
   "source": [
    "bimatrix_game(['Телефоны','Ноутбуки', 'ПК'], ['Телефоны', 'Наушники', 'Ноутбуки'], np.array([\n",
    "    [300, 280, 230],\n",
    "    [200, 180, 130],\n",
    "    [240, 380, 400],\n",
    "]), np.array([\n",
    "    [180, 110, 240],\n",
    "    [120, 160, 210],\n",
    "    [300, 140, 250],\n",
    "]))"
   ]
  },
  {
   "cell_type": "markdown",
   "metadata": {},
   "source": [
    "# Пункт 3"
   ]
  },
  {
   "cell_type": "markdown",
   "metadata": {},
   "source": [
    "**3. Решение задачи о принятии оптимального решения в условиях риска**"
   ]
  },
  {
   "cell_type": "code",
   "execution_count": 6,
   "metadata": {},
   "outputs": [],
   "source": [
    "def optimal_decision_in_a_risk_environment(A_strtg, states, matrix_coef, P):\n",
    "    q = 1 / P.shape[0]\n",
    "    cr = (matrix_coef * q).sum(axis=1)\n",
    "    cr_opt_s = cr.max()\n",
    "    cr_opt = np.argwhere(cr == cr_opt_s).reshape(-1)\n",
    "    cr_opt_strategies = ', '.join(map(lambda x: f'№{x+1} - {A_strtg[x]}', cr_opt))\n",
    "\n",
    "    b_cr = (matrix_coef * P).sum(axis=1)\n",
    "    b_cr_opt = b_cr.argmax()\n",
    "    b_cr_opt_s = b_cr[b_cr_opt]\n",
    "\n",
    "    h_cr = (matrix_coef * P).min(axis=1)\n",
    "    h_cr_opt = h_cr.argmax()\n",
    "    min_j = (matrix_coef * P).argmin(axis=1)[h_cr_opt]\n",
    "    h_cr_opt_s = h_cr[h_cr_opt]\n",
    "\n",
    "    \n",
    "    c = np.array([1, 1, 1, 1])\n",
    "    A_ub = -(matrix_coef * P).T\n",
    "    b_ub = -np.array([1, 1, 1, 1])\n",
    "    bounds = [[0, None], [0, None], [0, None], [0, None]]\n",
    "\n",
    "    m = linprog(c=c, A_ub=A_ub, b_ub=b_ub, bounds=bounds, method= \"revised simplex\")\n",
    "    \n",
    "\n",
    "    print(' а) Оптимальная стратегия игрока А по критерию Лапласа: '+ str(cr_opt_strategies) + '\\n' ,\n",
    "      'б) Цена игры с оптимальной стратегии по критерию Лапласа: ' + str(cr_opt_s) + '\\n' ,\n",
    "      'в) Оптимальная стратегия игрока А по критерию Баеса: №' + str(b_cr_opt + 1) + '-' + A_strtg[b_cr_opt] + '\\n' ,\n",
    "      'г) Цена игры с оптимальной стратегии по критерию Баеса: ' + str(b_cr_opt_s) + '\\n' ,\n",
    "      'д) Оптимальная чистая стратегия игрока А по критерию Гермейера: №' + str(h_cr_opt + 1) + '-' + A_strtg[h_cr_opt] + '\\n' ,\n",
    "      'е) Цена игры с оптимальной чистой стратегии по критерию Гермейера: ' + str(h_cr_opt_s)  + '/' + str(matrix_coef[h_cr_opt, min_j]) + '\\n' ,\n",
    "      'ж) Таблица оптимальных смешанных стратегий для игрока А по критерию Гермейера: ' + str(m.x / m.fun) + '\\n' ,\n",
    "      'з) Цена игры для игрока А при выборе смешанной оптимальной стратегии по критерию Гермейера: ' + str(1 / m.fun) + ' / ' + str(((matrix_coef * P).T * (m.x / m.fun)).sum()) + '\\n')\n"
   ]
  },
  {
   "cell_type": "code",
   "execution_count": 7,
   "metadata": {},
   "outputs": [
    {
     "name": "stdout",
     "output_type": "stream",
     "text": [
      " а) Оптимальная стратегия игрока А по критерию Лапласа: №2 - Косметика, №3 - Одежда\n",
      " б) Цена игры с оптимальной стратегии по критерию Лапласа: 43.75\n",
      " в) Оптимальная стратегия игрока А по критерию Баеса: №2-Косметика\n",
      " г) Цена игры с оптимальной стратегии по критерию Баеса: 47.5\n",
      " д) Оптимальная чистая стратегия игрока А по критерию Гермейера: №3-Одежда\n",
      " е) Цена игры с оптимальной чистой стратегии по критерию Гермейера: 5.25/35\n",
      " ж) Таблица оптимальных смешанных стратегий для игрока А по критерию Гермейера: [0.07692308 0.         0.92307692 0.        ]\n",
      " з) Цена игры для игрока А при выборе смешанной оптимальной стратегии по критерию Гермейера: 5.423076923076923 / 42.76923076923076\n",
      "\n"
     ]
    }
   ],
   "source": [
    "optimal_decision_in_a_risk_environment([\"Продукты\", \"Косметика\", \"Одежда\", \"Бытовая химия\"], [\"Рецессия\", \"Стагнация\", \"Оживление\", \"Подъем\"], np.array([\n",
    "    [50, 30, 35, 45],\n",
    "    [40, 40, 55, 40],\n",
    "    [35, 40, 45, 55],\n",
    "    [10, 20, 25, 35]\n",
    "]), np.array([0.15, 0.25, 0.5, 0.1])) # Вектор вероятности"
   ]
  },
  {
   "cell_type": "markdown",
   "metadata": {},
   "source": [
    "# Пункт 4"
   ]
  },
  {
   "cell_type": "markdown",
   "metadata": {},
   "source": [
    "**4. Решение задачи о принятии оптимального решения в условиях неопределенности**"
   ]
  },
  {
   "cell_type": "code",
   "execution_count": 8,
   "metadata": {},
   "outputs": [],
   "source": [
    "def optimal_decision_under_conditions_of_uncertainty(A_strtg, states, matrix_coef, P):\n",
    "\n",
    "    p_cr = matrix_coef.min(axis=1) # По критерию пессимизма\n",
    "    p_cr_opt_s = p_cr.min()\n",
    "    p_cr_opt = np.argwhere(p_cr == p_cr_opt_s).reshape(-1)\n",
    "    p_cr_opt_strategies = ', '.join(map(lambda x: f'№{x+1} - {A_strtg[x]}', p_cr_opt))\n",
    "\n",
    "    o_cr = matrix_coef.max(axis=1) # По критерию оптимизма\n",
    "    o_cr_opt_s = o_cr.max()\n",
    "    o_cr_opt = np.argwhere(o_cr == o_cr_opt_s).reshape(-1)\n",
    "    o_cr_opt_strategies = ', '.join(map(lambda x: f'№{x+1} - {A_strtg[x]}', o_cr_opt))\n",
    "\n",
    "    Risk_matrix = matrix_coef.max(axis=0) - matrix_coef # По критерию Сэвиджа\n",
    "    s_cr = Risk_matrix.max(axis=1)\n",
    "    s_cr_opt_s = s_cr.min()\n",
    "    s_cr_opt = np.argwhere(s_cr == s_cr_opt_s).reshape(-1)\n",
    "    s_cr_opt_strategies = ', '.join(map(lambda x: f'№{x+1} - {A_strtg[x]}', s_cr_opt))\n",
    "\n",
    "    def show_diagram(): # По критерию Гурвица\n",
    "        diagram = pd.DataFrame(data[A]).plot.bar()\n",
    "        diagram.xaxis.set_major_locator(ticker.MultipleLocator(5))\n",
    "        diagram.set_title('Гистограмма распределения оптимальной цены игры по критерию Гурвица')\n",
    "        diagram.set_xlabel(\"Величина склонности к риску\")\n",
    "        diagram.set_ylabel(\"Цена игры\")\n",
    "        plt.plot(10 * data.index, data[\"max\"], color=\"green\", label='max')\n",
    "        diagram.legend()\n",
    "        return diagram\n",
    "\n",
    "    A = list([f'A{i + 1}' for i in range(matrix_coef.shape[0])])\n",
    "    data = pd.DataFrame(columns= A + ['max'], index=np.arange(0, 1 + 0.1, 0.1))\n",
    "\n",
    "    for alpha in data.index:\n",
    "        data.loc[alpha, A] = (1 - alpha) * matrix_coef.min(axis=1) + alpha * matrix_coef.max(axis=1) #по правилу Гурвица\n",
    "    data.index.name  = \"alpha\"\n",
    "    data['max'] = data[A].max(axis=1)\n",
    "\n",
    "    w_cr = matrix_coef.min(axis=1) # По критерию Вальда\n",
    "    w_cr_opt_s = w_cr.max()\n",
    "    w_cr_opt = np.argwhere(w_cr == w_cr_opt_s).reshape(-1)\n",
    "    w_cr_opt_strategies = ', '.join(map(lambda x: f'№{x+1} - {A_strtg[x]}', w_cr_opt))\n",
    "\n",
    "\n",
    "    print(' а) Оптимальная стратегия игрока А по критерию пессимизма: ' + str(p_cr_opt_strategies) + '\\n',\n",
    "          'б) Цена игры оптимальной стратегии по критерию пессимизма: ' + str(p_cr_opt_s) + '\\n',\n",
    "          'в) Оптимальная стратегия игрока А по критерию оптимизма: ' + str(o_cr_opt_strategies) + '\\n', \n",
    "          'г) Цена игры оптимальной стратегии по критерию оптимизма: ' + str(o_cr_opt_s) + '\\n',\n",
    "          'д) Оптимальная стратегия игрока А по критерию Вальда: ' + str(w_cr_opt_strategies) + '\\n',\n",
    "          'е) Цена игры оптимальной стратегии по критерию Вальда: ' + str(w_cr_opt_s) + '\\n',\n",
    "          'ж) Линейная свертка склонности к риску по критерию Гурвица: ' + '\\n\\n' + str(data.T) + '\\n\\n',\n",
    "          'з) Гистограмма (диаграмма) максимумов линейной свертки по критерию Гурвица: ' + '\\n' + str(show_diagram()) + '\\n',\n",
    "          'и) Оптимальная стратегия игрока А по критерию Сэвиджа: ' + str(s_cr_opt_strategies) + '\\n',\n",
    "          'к) Величина минимальной недополученной прибыли по критерию Сэвиджа: ' + str(s_cr[s_cr > s_cr_opt_s].min() - s_cr_opt_s) + '\\n')\n"
   ]
  },
  {
   "cell_type": "code",
   "execution_count": 9,
   "metadata": {},
   "outputs": [
    {
     "name": "stdout",
     "output_type": "stream",
     "text": [
      " а) Оптимальная стратегия игрока А по критерию пессимизма: №4 - Бытовая химия\n",
      " б) Цена игры оптимальной стратегии по критерию пессимизма: 10\n",
      " в) Оптимальная стратегия игрока А по критерию оптимизма: №2 - Косметика, №3 - Одежда\n",
      " г) Цена игры оптимальной стратегии по критерию оптимизма: 55\n",
      " д) Оптимальная стратегия игрока А по критерию Вальда: №2 - Косметика\n",
      " е) Цена игры оптимальной стратегии по критерию Вальда: 40\n",
      " ж) Линейная свертка склонности к риску по критерию Гурвица: \n",
      "\n",
      "alpha 0.0   0.1 0.2   0.3 0.4   0.5 0.6   0.7 0.8   0.9 1.0\n",
      "A1     30    32  34    36  38    40  42    44  46    48  50\n",
      "A2     40  41.5  43  44.5  46  47.5  49  50.5  52  53.5  55\n",
      "A3     35    37  39    41  43    45  47    49  51    53  55\n",
      "A4     10  12.5  15  17.5  20  22.5  25  27.5  30  32.5  35\n",
      "max    40  41.5  43  44.5  46  47.5  49  50.5  52  53.5  55\n",
      "\n",
      " з) Гистограмма (диаграмма) максимумов линейной свертки по критерию Гурвица: \n",
      "AxesSubplot(0.125,0.125;0.775x0.755)\n",
      " и) Оптимальная стратегия игрока А по критерию Сэвиджа: №2 - Косметика, №3 - Одежда\n",
      " к) Величина минимальной недополученной прибыли по критерию Сэвиджа: 5\n",
      "\n"
     ]
    },
    {
     "data": {
      "image/png": "[encoded data removed]",
      "text/plain": [
       "<Figure size 432x288 with 1 Axes>"
      ]
     },
     "metadata": {
      "needs_background": "light"
     },
     "output_type": "display_data"
    }
   ],
   "source": [
    "optimal_decision_under_conditions_of_uncertainty([\"Продукты\", \"Косметика\", \"Одежда\", \"Бытовая химия\"], [\"Рецессия\", \"Стагнация\", \"Оживление\", \"Подъем\"], np.array([\n",
    "    [50, 30, 35, 45],\n",
    "    [40, 40, 55, 40],\n",
    "    [35, 40, 45, 55],\n",
    "    [10, 20, 25, 35]\n",
    "]), np.array([0.15, 0.25, 0.5, 0.1]))"
   ]
  },
  {
   "cell_type": "code",
   "execution_count": null,
   "metadata": {},
   "outputs": [],
   "source": []
  }
 ],
 "metadata": {
  "kernelspec": {
   "display_name": "Python 3",
   "language": "python",
   "name": "python3"
  },
  "language_info": {
   "codemirror_mode": {
    "name": "ipython",
    "version": 3
   },
   "file_extension": ".py",
   "mimetype": "text/x-python",
   "name": "python",
   "nbconvert_exporter": "python",
   "pygments_lexer": "ipython3",
   "version": "3.8.5"
  }
 },
 "nbformat": 4,
 "nbformat_minor": 1
}
