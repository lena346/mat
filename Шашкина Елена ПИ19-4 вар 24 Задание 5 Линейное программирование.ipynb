{
 "cells": [
  {
   "cell_type": "code",
   "execution_count": 1,
   "metadata": {},
   "outputs": [],
   "source": [
    "from scipy.optimize import linprog\n",
    "import numpy as np\n",
    "import matplotlib.pyplot as plt"
   ]
  },
  {
   "cell_type": "code",
   "execution_count": 2,
   "metadata": {},
   "outputs": [
    {
     "name": "stdout",
     "output_type": "stream",
     "text": [
      "Введите a: 1.75\n",
      "Введите b: 8\n",
      "Введите c: 7\n",
      "Значения a, b, c: 1.75, 8, 7\n"
     ]
    }
   ],
   "source": [
    "a,b,c = input(\"Введите a: \"), input(\"Введите b: \"), input(\"Введите c: \")\n",
    "n_a, n_b, n_c = float(a), int(b), int(c)\n",
    "print(f\"Значения a, b, c: {a}, {b}, {c}\")"
   ]
  },
  {
   "cell_type": "markdown",
   "metadata": {},
   "source": [
    "# Вариант 24"
   ]
  },
  {
   "cell_type": "markdown",
   "metadata": {},
   "source": [
    "Задание 5. Линейное программирование. Графический метод [1,2 – гл. 3, 4]\n",
    "Решить задачу линейного программирования, используя геометрическую интерпретацию.\n",
    "Проверить результаты вычислений на компьютере."
   ]
  },
  {
   "cell_type": "code",
   "execution_count": 3,
   "metadata": {},
   "outputs": [
    {
     "data": {
      "text/plain": [
       "     con: array([], dtype=float64)\n",
       "     fun: 5.75\n",
       " message: 'Optimization terminated successfully.'\n",
       "     nit: 4\n",
       "   slack: array([1.3000000e+01, 8.8817842e-16, 0.0000000e+00])\n",
       "  status: 0\n",
       " success: True\n",
       "       x: array([1., 4.])"
      ]
     },
     "execution_count": 3,
     "metadata": {},
     "output_type": "execute_result"
    }
   ],
   "source": [
    "price = [n_a, 1]\n",
    "\n",
    "matrix = [[-1, -(n_b-3)], [-(n_c-4), -1], [-3, -2]] \n",
    "\n",
    "stocks = [-n_b, -n_c, -11]  \n",
    "\n",
    "x1_bounds = (0, None)\n",
    "x2_bounds = (0, None)\n",
    "\n",
    "m = linprog(c=price, A_ub=matrix, b_ub=stocks, bounds=[x1_bounds, x2_bounds], method= \"revised simplex\")\n",
    "m"
   ]
  },
  {
   "cell_type": "markdown",
   "metadata": {},
   "source": [
    "Оптимальный план"
   ]
  },
  {
   "cell_type": "code",
   "execution_count": 4,
   "metadata": {},
   "outputs": [
    {
     "data": {
      "text/plain": [
       "array([1., 4.])"
      ]
     },
     "execution_count": 4,
     "metadata": {},
     "output_type": "execute_result"
    }
   ],
   "source": [
    "m.x"
   ]
  },
  {
   "cell_type": "markdown",
   "metadata": {},
   "source": [
    "Оптимальное значение целевой функции"
   ]
  },
  {
   "cell_type": "code",
   "execution_count": 5,
   "metadata": {},
   "outputs": [
    {
     "data": {
      "text/plain": [
       "5.75"
      ]
     },
     "execution_count": 5,
     "metadata": {},
     "output_type": "execute_result"
    }
   ],
   "source": [
    "m.fun"
   ]
  },
  {
   "cell_type": "code",
   "execution_count": 6,
   "metadata": {},
   "outputs": [
    {
     "data": {
      "image/png": "[encoded data removed]",
      "text/plain": [
       "<Figure size 432x288 with 1 Axes>"
      ]
     },
     "metadata": {
      "needs_background": "light"
     },
     "output_type": "display_data"
    }
   ],
   "source": [
    "d = np.linspace(-20,20,300)\n",
    "x,y = np.meshgrid(d,d)\n",
    "\n",
    "plt.imshow( (((n_b-3)*y>=n_b-x) & (y>=n_c-(n_c-4)*x) & (2*y>=11-3*x) & (y>=0) & (x>=0)).astype(int) , \n",
    "                extent=(x.min(),x.max(),y.min(),y.max()),origin=\"lower\", cmap='viridis', alpha = 0.3);\n",
    "\n",
    "x = np.linspace(-20, 20, 2000)\n",
    "\n",
    "# (n_b-3)*y1 >= n_b-x)\n",
    "# (y2 >= n_c-(n_c-4)*x)\n",
    "# 2*y3 >= 11-3*x\n",
    "\n",
    "y1 = (n_b-x)/(n_b-3)\n",
    "y2 = n_c-(n_c-4)*x\n",
    "y3 = (11-3*x)/2.0\n",
    "\n",
    "# Рисуем линии\n",
    "plt.plot(x, y1, label=r'A')\n",
    "plt.plot(x, y2, label=r'B')\n",
    "plt.plot(x, y3, label=r'C')\n",
    "\n",
    "#Шкала\n",
    "plt.xlim(-5,20)\n",
    "plt.ylim(-2,15)\n",
    "\n",
    "#Точка - оптимальный план\n",
    "plt.plot(m.x[0], m.x[1], 'ko')\n",
    "plt.text(m.x[0] + 1, m.x[1] + 1, f'M*({m.x[0].round(3)}, {m.x[1].round(3)})')\n",
    "\n",
    "plt.legend(bbox_to_anchor=(1.05, 1), loc=2, borderaxespad=0.)\n",
    "plt.xlabel(r'x')\n",
    "plt.ylabel(r'y')\n",
    "\n",
    "plt.show()"
   ]
  },
  {
   "cell_type": "code",
   "execution_count": null,
   "metadata": {},
   "outputs": [],
   "source": []
  }
 ],
 "metadata": {
  "kernelspec": {
   "display_name": "Python 3",
   "language": "python",
   "name": "python3"
  },
  "language_info": {
   "codemirror_mode": {
    "name": "ipython",
    "version": 3
   },
   "file_extension": ".py",
   "mimetype": "text/x-python",
   "name": "python",
   "nbconvert_exporter": "python",
   "pygments_lexer": "ipython3",
   "version": "3.8.5"
  }
 },
 "nbformat": 4,
 "nbformat_minor": 4
}
